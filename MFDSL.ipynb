{
 "cells": [
  {
   "cell_type": "markdown",
   "metadata": {},
   "source": [
    "**初始化**  \n",
    "shell脚本可能需要根据不同条件（如使用虚拟环境等）稍作修改"
   ]
  },
  {
   "cell_type": "code",
   "execution_count": null,
   "metadata": {},
   "outputs": [],
   "source": [
    "!sh ../MFDSL_init.sh"
   ]
  },
  {
   "cell_type": "code",
   "execution_count": null,
   "metadata": {},
   "outputs": [],
   "source": [
    "!python ./wordvector/train.py --model fasttext"
   ]
  },
  {
   "cell_type": "code",
   "execution_count": 9,
   "metadata": {},
   "outputs": [
    {
     "name": "stdout",
     "output_type": "stream",
     "text": [
      "2022-01-05 06:14:34.346137: I tensorflow/stream_executor/platform/default/dso_loader.cc:49] Successfully opened dynamic library libcudart.so.11.0\n",
      "100%|████████████████████████████████████| 11986/11986 [01:31<00:00, 130.88it/s]\n",
      "100%|██████████████████████████████████████| 9757/9757 [00:21<00:00, 455.70it/s]\n"
     ]
    }
   ],
   "source": [
    "!python ./run.py --corpus ./corpus/takeaway/all_cut.tsv \\\n",
    "--weight True --weight_schema mix \\\n",
    "--select_seeds True --dimension 50 \\\n",
    "--model fasttext --language zh"
   ]
  },
  {
   "cell_type": "code",
   "execution_count": null,
   "metadata": {},
   "outputs": [],
   "source": [
    "!python ./validation/classify.py --model_type xlnet_zh --model_folder ../libs/xlnet_chinese_hfl --output_name reports_takeaway_mix"
   ]
  }
 ],
 "metadata": {
  "interpreter": {
   "hash": "ccc93251d6f721491c6fbc0c6bcbe4e9a605d28f77b9a8e19b15e1c61d18557e"
  },
  "kernelspec": {
   "display_name": "Python 3.8.5 64-bit ('myconda': conda)",
   "language": "python",
   "name": "python3"
  },
  "language_info": {
   "codemirror_mode": {
    "name": "ipython",
    "version": 3
   },
   "file_extension": ".py",
   "mimetype": "text/x-python",
   "name": "python",
   "nbconvert_exporter": "python",
   "pygments_lexer": "ipython3",
   "version": "3.8.5"
  },
  "orig_nbformat": 4
 },
 "nbformat": 4,
 "nbformat_minor": 2
}
